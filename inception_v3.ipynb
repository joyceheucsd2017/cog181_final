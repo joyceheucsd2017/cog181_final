{
 "cells": [
  {
   "cell_type": "code",
   "execution_count": 1,
   "metadata": {
    "collapsed": true,
    "deletable": true,
    "editable": true
   },
   "outputs": [],
   "source": [
    "## download model to the current directory. Ignore if download manually \n",
    "import os, urllib\n",
    "import tarfile\n",
    "def download(url):\n",
    "    filename = url.split(\"/\")[-1]\n",
    "    if not os.path.exists(filename):\n",
    "        urllib.urlretrieve(url, filename)\n",
    "# def get_model(prefix, epoch):\n",
    "#     download(prefix+'-symbol.json')\n",
    "#     download(prefix+'-%04d.params' % (epoch,))\n",
    "download('http://data.mxnet.io/models/imagenet/inception-v3.tar.gz')"
   ]
  },
  {
   "cell_type": "code",
   "execution_count": 17,
   "metadata": {
    "collapsed": false,
    "deletable": true,
    "editable": true
   },
   "outputs": [],
   "source": [
    "tar = tarfile.open(\"inception-v3.tar.gz\")\n",
    "tar.extractall()\n",
    "tar.close()"
   ]
  },
  {
   "cell_type": "code",
   "execution_count": 2,
   "metadata": {
    "collapsed": true,
    "deletable": true,
    "editable": true
   },
   "outputs": [],
   "source": [
    "import numpy as np\n",
    "import dicom\n",
    "import glob\n",
    "from matplotlib import pyplot as plt\n",
    "import os\n",
    "import cv2\n",
    "import xgboost as xgb\n",
    "import mxnet as mx\n",
    "import pandas as pd\n",
    "from sklearn.model_selection import train_test_split"
   ]
  },
  {
   "cell_type": "code",
   "execution_count": 3,
   "metadata": {
    "collapsed": true,
    "deletable": true,
    "editable": true
   },
   "outputs": [],
   "source": [
    "def get_extractor():\n",
    "    model = mx.model.FeedForward.load('model/Inception-7', 0, ctx=mx.gpu(), numpy_batch_size=1)\n",
    "    fea_symbol = model.symbol.get_internals()[\"flatten_output\"]\n",
    "    feature_extractor = mx.model.FeedForward(ctx=mx.gpu(), symbol=fea_symbol, numpy_batch_size=16,\n",
    "                                             arg_params=model.arg_params, aux_params=model.aux_params,\n",
    "                                             allow_extra_params=True)\n",
    "\n",
    "    return feature_extractor \n",
    "\n",
    "MIN_BOUND = -1500.0\n",
    "MAX_BOUND = 600.0\n",
    "    \n",
    "def normalize(image):\n",
    "    image = (image - MIN_BOUND) / (MAX_BOUND - MIN_BOUND)\n",
    "    image[image>1] = 1.\n",
    "    image[image<0] = 0.\n",
    "    return image\n",
    "\n",
    "PIXEL_MEAN = 0.25\n",
    "\n",
    "def zero_center(image):\n",
    "    image = image - PIXEL_MEAN\n",
    "    return image\n",
    "\n",
    "def next_batch(sample_image):\n",
    "    batch = []\n",
    "    cnt = 0\n",
    "    dx = 40\n",
    "    ds = 512\n",
    "    for i in range(0, sample_image.shape[0] - 3, 3):\n",
    "        tmp = []\n",
    "        for j in range(3):\n",
    "            img = sample_image[i + j]\n",
    "            img = 255.0 / np.amax(img) * img\n",
    "            img = cv2.equalizeHist(img.astype(np.uint8))\n",
    "            img = img[dx: ds - dx, dx: ds - dx]\n",
    "            img = cv2.resize(img, (299, 299))\n",
    "            tmp.append(img)\n",
    "\n",
    "        tmp = np.array(tmp)\n",
    "        batch.append(np.array(tmp))\n",
    "    batch = np.array(batch)\n",
    "    return batch\n",
    "\n",
    "# def calc_features():\n",
    "#     net = get_extractor()\n",
    "#     for folder in glob.glob(path):\n",
    "#         batch = next_batch(image)\n",
    "#         feats = net.predict(batch)\n",
    "#         np.save(os.path.join(BASE_PATH, folder), feats)\n",
    "#         print folder\n",
    "\n",
    "# INPUT_FOLDER = '/media/zzz/OS/stage1/'\n",
    "# patients = os.listdir(INPUT_FOLDER)\n",
    "# patients.sort()"
   ]
  },
  {
   "cell_type": "code",
   "execution_count": null,
   "metadata": {
    "collapsed": false,
    "deletable": true,
    "editable": true
   },
   "outputs": [
    {
     "name": "stderr",
     "output_type": "stream",
     "text": [
      "/home/ai-master/mxnet/python/mxnet/model.py:870: DeprecationWarning: \u001b[91mmxnet.model.FeedForward has been deprecated. Please use mxnet.mod.Module instead.\u001b[0m\n",
      "  **kwargs)\n",
      "/home/ai-master/anaconda2/lib/python2.7/site-packages/ipykernel/__main__.py:6: DeprecationWarning: \u001b[91mmxnet.model.FeedForward has been deprecated. Please use mxnet.mod.Module instead.\u001b[0m\n"
     ]
    }
   ],
   "source": [
    "file_path = '/media/ai-master/my_passport/joyce/Pre_processed'\n",
    "save_path = '/media/ai-master/my_passport/joyce/inception'\n",
    "patients = os.listdir(file_path)\n",
    "net = get_extractor()\n",
    "\n",
    "for i in range(len(patients)):\n",
    "    image = np.load(file_path+'/'+patients[0])\n",
    "    image = normalize(image)\n",
    "    image = zero_center(image)\n",
    "    batch = next_batch(image)\n",
    "    feats = net.predict(batch)\n",
    "    np.save(os.path.join(save_path, patients[i]), feats)"
   ]
  },
  {
   "cell_type": "code",
   "execution_count": null,
   "metadata": {
    "collapsed": true,
    "deletable": true,
    "editable": true
   },
   "outputs": [],
   "source": []
  }
 ],
 "metadata": {
  "kernelspec": {
   "display_name": "Python 2",
   "language": "python",
   "name": "python2"
  },
  "language_info": {
   "codemirror_mode": {
    "name": "ipython",
    "version": 2
   },
   "file_extension": ".py",
   "mimetype": "text/x-python",
   "name": "python",
   "nbconvert_exporter": "python",
   "pygments_lexer": "ipython2",
   "version": "2.7.13"
  }
 },
 "nbformat": 4,
 "nbformat_minor": 2
}
