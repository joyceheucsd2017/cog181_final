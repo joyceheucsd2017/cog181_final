{
 "cells": [
  {
   "cell_type": "code",
   "execution_count": 1,
   "metadata": {
    "collapsed": false,
    "deletable": true,
    "editable": true
   },
   "outputs": [],
   "source": [
    "from preprocess import preprocess\n",
    "import numpy as np\n",
    "import dicom\n",
    "import glob\n",
    "from matplotlib import pyplot as plt\n",
    "import os\n",
    "import cv2\n",
    "import xgboost as xgb\n",
    "import mxnet as mx\n",
    "import pandas as pd\n",
    "from sklearn.model_selection import train_test_split"
   ]
  },
  {
   "cell_type": "code",
   "execution_count": 2,
   "metadata": {
    "collapsed": false,
    "deletable": true,
    "editable": true
   },
   "outputs": [],
   "source": [
    "def get_extractor():\n",
    "    model = mx.model.FeedForward.load('model/resnet-50', 0, ctx=mx.gpu(), numpy_batch_size=1)\n",
    "    fea_symbol = model.symbol.get_internals()[\"flatten0_output\"]\n",
    "    feature_extractor = mx.model.FeedForward(ctx=mx.gpu(), symbol=fea_symbol, numpy_batch_size=32,\n",
    "                                             arg_params=model.arg_params, aux_params=model.aux_params,\n",
    "                                             allow_extra_params=True)\n",
    "\n",
    "    return feature_extractor \n",
    "\n",
    "MIN_BOUND = -1000.0\n",
    "MAX_BOUND = 400.0\n",
    "    \n",
    "def normalize(image):\n",
    "    image = (image - MIN_BOUND) / (MAX_BOUND - MIN_BOUND)\n",
    "    image[image>1] = 1.\n",
    "    image[image<0] = 0.\n",
    "    return image\n",
    "\n",
    "PIXEL_MEAN = 0.25\n",
    "\n",
    "def zero_center(image):\n",
    "    image = image - PIXEL_MEAN\n",
    "    return image\n",
    "\n",
    "def next_batch(sample_image):\n",
    "    batch = []\n",
    "    cnt = 0\n",
    "    dx = 40\n",
    "    ds = 512\n",
    "    for i in range(0, sample_image.shape[0] - 3, 3):\n",
    "        tmp = []\n",
    "        for j in range(3):\n",
    "            img = sample_image[i + j]\n",
    "            img = 255.0 / np.amax(img) * img\n",
    "            img = cv2.equalizeHist(img.astype(np.uint8))\n",
    "            img = img[dx: ds - dx, dx: ds - dx]\n",
    "            img = cv2.resize(img, (224, 224))\n",
    "            tmp.append(img)\n",
    "\n",
    "        tmp = np.array(tmp)\n",
    "        batch.append(np.array(tmp))\n",
    "    batch = np.array(batch)\n",
    "    return batch\n",
    "\n",
    "# def calc_features():\n",
    "#     net = get_extractor()\n",
    "#     for folder in glob.glob(path):\n",
    "#         batch = next_batch(image)\n",
    "#         feats = net.predict(batch)\n",
    "#         np.save(os.path.join(BASE_PATH, folder), feats)\n",
    "#         print folder\n",
    "\n",
    "# INPUT_FOLDER = '/media/zzz/OS/stage1/'\n",
    "# patients = os.listdir(INPUT_FOLDER)\n",
    "# patients.sort()"
   ]
  },
  {
   "cell_type": "code",
   "execution_count": 20,
   "metadata": {
    "collapsed": false,
    "deletable": true,
    "editable": true
   },
   "outputs": [],
   "source": [
    "file_path = '/home/zzz/Desktop/cogs181/npy_data'\n",
    "save_path = '/media/zzz/New/pre_npy'\n",
    "patients = os.listdir(file_path)\n",
    "patients.sort()"
   ]
  },
  {
   "cell_type": "code",
   "execution_count": 21,
   "metadata": {
    "collapsed": false,
    "deletable": true,
    "editable": true
   },
   "outputs": [
    {
     "name": "stderr",
     "output_type": "stream",
     "text": [
      "/usr/local/lib/python2.7/dist-packages/ipykernel/__main__.py:6: DeprecationWarning: \u001b[91mmxnet.model.FeedForward has been deprecated. Please use mxnet.mod.Module instead.\u001b[0m\n"
     ]
    }
   ],
   "source": [
    "net = get_extractor()\n",
    "for i in range(len(patients)):\n",
    "#    if not os.path.isfile(save_path+'/'+patients[i]):\n",
    "    image = np.load(file_path+'/'+patients[i])\n",
    "    image = normalize(image)\n",
    "    image = zero_center(image)\n",
    "    batch = next_batch(image)\n",
    "    feats = net.predict(batch)\n",
    "    np.save(os.path.join(save_path, patients[i]), feats)\n"
   ]
  },
  {
   "cell_type": "code",
   "execution_count": 15,
   "metadata": {
    "collapsed": false
   },
   "outputs": [
    {
     "name": "stdout",
     "output_type": "stream",
     "text": [
      "1594\n",
      "1594\n"
     ]
    }
   ],
   "source": [
    "a = 0\n",
    "for i in range(0,1594):\n",
    "    if os.path.isfile(file_path+'/'+patients[i]):\n",
    "        a +=1\n",
    "print a\n",
    "print len(patients)"
   ]
  },
  {
   "cell_type": "code",
   "execution_count": 13,
   "metadata": {
    "collapsed": true,
    "deletable": true,
    "editable": true
   },
   "outputs": [],
   "source": [
    "import os, urllib\n",
    "def download(url):\n",
    "    filename = url.split(\"/\")[-1]\n",
    "    if not os.path.exists(filename):\n",
    "        urllib.urlretrieve(url, filename)\n",
    "def get_model(prefix, epoch):\n",
    "    download(prefix+'-symbol.json')\n",
    "    download(prefix+'-%04d.params' % (epoch,))\n",
    "\n",
    "get_model('http://data.mxnet.io/models/imagenet/resnet/50-layers/resnet-50', 0)"
   ]
  },
  {
   "cell_type": "code",
   "execution_count": 14,
   "metadata": {
    "collapsed": true,
    "deletable": true,
    "editable": true
   },
   "outputs": [],
   "source": [
    "import mxnet as mx\n",
    "sym, arg_params, aux_params = mx.model.load_checkpoint('resnet-50', 0)"
   ]
  },
  {
   "cell_type": "code",
   "execution_count": 15,
   "metadata": {
    "collapsed": true,
    "deletable": true,
    "editable": true
   },
   "outputs": [],
   "source": [
    "mod = mx.mod.Module(symbol=sym, context=mx.gpu())"
   ]
  },
  {
   "cell_type": "code",
   "execution_count": 16,
   "metadata": {
    "collapsed": false,
    "deletable": true,
    "editable": true
   },
   "outputs": [
    {
     "name": "stderr",
     "output_type": "stream",
     "text": [
      "/home/zzz/mxnet/python/mxnet/module/base_module.py:64: UserWarning: Data provided by label_shapes don't match names specified by label_names ([] vs. ['softmax_label'])\n",
      "  warnings.warn(msg)\n"
     ]
    }
   ],
   "source": [
    "mod.bind(for_training = False,\n",
    "         data_shapes=[('data', (1,3,224,224))])\n",
    "mod.set_params(arg_params, aux_params)"
   ]
  },
  {
   "cell_type": "code",
   "execution_count": 22,
   "metadata": {
    "collapsed": false,
    "deletable": true,
    "editable": true
   },
   "outputs": [
    {
     "name": "stdout",
     "output_type": "stream",
     "text": [
      "8a97ff581c17a49a3ef97144efde8a19.npy\n"
     ]
    }
   ],
   "source": [
    "image = np.load(file_path+'/'+patients[853])\n",
    "print patients[853]\n",
    "\n",
    "image = normalize(image)\n",
    "image = zero_center(image)\n",
    "batch = next_batch(image)\n",
    "feats = net.predict(batch)"
   ]
  },
  {
   "cell_type": "code",
   "execution_count": null,
   "metadata": {
    "collapsed": true
   },
   "outputs": [],
   "source": []
  }
 ],
 "metadata": {
  "kernelspec": {
   "display_name": "Python 2",
   "language": "python",
   "name": "python2"
  },
  "language_info": {
   "codemirror_mode": {
    "name": "ipython",
    "version": 2
   },
   "file_extension": ".py",
   "mimetype": "text/x-python",
   "name": "python",
   "nbconvert_exporter": "python",
   "pygments_lexer": "ipython2",
   "version": "2.7.12"
  }
 },
 "nbformat": 4,
 "nbformat_minor": 2
}
